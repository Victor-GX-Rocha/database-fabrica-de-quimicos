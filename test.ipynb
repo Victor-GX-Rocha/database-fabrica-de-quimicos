{
 "cells": [
  {
   "cell_type": "markdown",
   "id": "431a5403",
   "metadata": {},
   "source": [
    "## Banco de dados"
   ]
  },
  {
   "cell_type": "markdown",
   "id": "4bd1bf24",
   "metadata": {},
   "source": [
    "### Adicionando coisas"
   ]
  },
  {
   "cell_type": "markdown",
   "id": "e1b8e73f",
   "metadata": {},
   "source": [
    "#### Categorias"
   ]
  },
  {
   "cell_type": "code",
   "execution_count": 1,
   "id": "23d2d6fe",
   "metadata": {},
   "outputs": [
    {
     "name": "stdout",
     "output_type": "stream",
     "text": [
      "2025-10-01 17:28:36,813 INFO sqlalchemy.engine.Engine select pg_catalog.version()\n",
      "2025-10-01 17:28:36,814 INFO sqlalchemy.engine.Engine [raw sql] {}\n",
      "2025-10-01 17:28:36,817 INFO sqlalchemy.engine.Engine select current_schema()\n",
      "2025-10-01 17:28:36,819 INFO sqlalchemy.engine.Engine [raw sql] {}\n",
      "2025-10-01 17:28:36,821 INFO sqlalchemy.engine.Engine show standard_conforming_strings\n",
      "2025-10-01 17:28:36,821 INFO sqlalchemy.engine.Engine [raw sql] {}\n",
      "2025-10-01 17:28:36,822 INFO sqlalchemy.engine.Engine BEGIN (implicit)\n",
      "2025-10-01 17:28:36,823 INFO sqlalchemy.engine.Engine COMMIT\n",
      "2025-10-01 17:28:36,866 INFO sqlalchemy.engine.Engine BEGIN (implicit)\n",
      "2025-10-01 17:28:36,870 INFO sqlalchemy.engine.Engine SELECT pg_catalog.pg_class.relname \n",
      "FROM pg_catalog.pg_class JOIN pg_catalog.pg_namespace ON pg_catalog.pg_namespace.oid = pg_catalog.pg_class.relnamespace \n",
      "WHERE pg_catalog.pg_class.relname = %(table_name)s AND pg_catalog.pg_class.relkind = ANY (ARRAY[%(param_1)s, %(param_2)s, %(param_3)s, %(param_4)s, %(param_5)s]) AND pg_catalog.pg_table_is_visible(pg_catalog.pg_class.oid) AND pg_catalog.pg_namespace.nspname != %(nspname_1)s\n",
      "2025-10-01 17:28:36,870 INFO sqlalchemy.engine.Engine [generated in 0.00073s] {'table_name': 'formulas', 'param_1': 'r', 'param_2': 'p', 'param_3': 'f', 'param_4': 'v', 'param_5': 'm', 'nspname_1': 'pg_catalog'}\n",
      "2025-10-01 17:28:36,879 INFO sqlalchemy.engine.Engine SELECT pg_catalog.pg_class.relname \n",
      "FROM pg_catalog.pg_class JOIN pg_catalog.pg_namespace ON pg_catalog.pg_namespace.oid = pg_catalog.pg_class.relnamespace \n",
      "WHERE pg_catalog.pg_class.relname = %(table_name)s AND pg_catalog.pg_class.relkind = ANY (ARRAY[%(param_1)s, %(param_2)s, %(param_3)s, %(param_4)s, %(param_5)s]) AND pg_catalog.pg_table_is_visible(pg_catalog.pg_class.oid) AND pg_catalog.pg_namespace.nspname != %(nspname_1)s\n",
      "2025-10-01 17:28:36,880 INFO sqlalchemy.engine.Engine [cached since 0.009986s ago] {'table_name': 'categoria_epi', 'param_1': 'r', 'param_2': 'p', 'param_3': 'f', 'param_4': 'v', 'param_5': 'm', 'nspname_1': 'pg_catalog'}\n",
      "2025-10-01 17:28:36,881 INFO sqlalchemy.engine.Engine SELECT pg_catalog.pg_class.relname \n",
      "FROM pg_catalog.pg_class JOIN pg_catalog.pg_namespace ON pg_catalog.pg_namespace.oid = pg_catalog.pg_class.relnamespace \n",
      "WHERE pg_catalog.pg_class.relname = %(table_name)s AND pg_catalog.pg_class.relkind = ANY (ARRAY[%(param_1)s, %(param_2)s, %(param_3)s, %(param_4)s, %(param_5)s]) AND pg_catalog.pg_table_is_visible(pg_catalog.pg_class.oid) AND pg_catalog.pg_namespace.nspname != %(nspname_1)s\n",
      "2025-10-01 17:28:36,881 INFO sqlalchemy.engine.Engine [cached since 0.01165s ago] {'table_name': 'categoria_insumo', 'param_1': 'r', 'param_2': 'p', 'param_3': 'f', 'param_4': 'v', 'param_5': 'm', 'nspname_1': 'pg_catalog'}\n",
      "2025-10-01 17:28:36,883 INFO sqlalchemy.engine.Engine SELECT pg_catalog.pg_class.relname \n",
      "FROM pg_catalog.pg_class JOIN pg_catalog.pg_namespace ON pg_catalog.pg_namespace.oid = pg_catalog.pg_class.relnamespace \n",
      "WHERE pg_catalog.pg_class.relname = %(table_name)s AND pg_catalog.pg_class.relkind = ANY (ARRAY[%(param_1)s, %(param_2)s, %(param_3)s, %(param_4)s, %(param_5)s]) AND pg_catalog.pg_table_is_visible(pg_catalog.pg_class.oid) AND pg_catalog.pg_namespace.nspname != %(nspname_1)s\n",
      "2025-10-01 17:28:36,885 INFO sqlalchemy.engine.Engine [cached since 0.01492s ago] {'table_name': 'categoria_produto', 'param_1': 'r', 'param_2': 'p', 'param_3': 'f', 'param_4': 'v', 'param_5': 'm', 'nspname_1': 'pg_catalog'}\n",
      "2025-10-01 17:28:36,887 INFO sqlalchemy.engine.Engine SELECT pg_catalog.pg_class.relname \n",
      "FROM pg_catalog.pg_class JOIN pg_catalog.pg_namespace ON pg_catalog.pg_namespace.oid = pg_catalog.pg_class.relnamespace \n",
      "WHERE pg_catalog.pg_class.relname = %(table_name)s AND pg_catalog.pg_class.relkind = ANY (ARRAY[%(param_1)s, %(param_2)s, %(param_3)s, %(param_4)s, %(param_5)s]) AND pg_catalog.pg_table_is_visible(pg_catalog.pg_class.oid) AND pg_catalog.pg_namespace.nspname != %(nspname_1)s\n",
      "2025-10-01 17:28:36,887 INFO sqlalchemy.engine.Engine [cached since 0.01748s ago] {'table_name': 'registro_epi', 'param_1': 'r', 'param_2': 'p', 'param_3': 'f', 'param_4': 'v', 'param_5': 'm', 'nspname_1': 'pg_catalog'}\n",
      "2025-10-01 17:28:36,889 INFO sqlalchemy.engine.Engine SELECT pg_catalog.pg_class.relname \n",
      "FROM pg_catalog.pg_class JOIN pg_catalog.pg_namespace ON pg_catalog.pg_namespace.oid = pg_catalog.pg_class.relnamespace \n",
      "WHERE pg_catalog.pg_class.relname = %(table_name)s AND pg_catalog.pg_class.relkind = ANY (ARRAY[%(param_1)s, %(param_2)s, %(param_3)s, %(param_4)s, %(param_5)s]) AND pg_catalog.pg_table_is_visible(pg_catalog.pg_class.oid) AND pg_catalog.pg_namespace.nspname != %(nspname_1)s\n",
      "2025-10-01 17:28:36,890 INFO sqlalchemy.engine.Engine [cached since 0.01995s ago] {'table_name': 'registro_insumos', 'param_1': 'r', 'param_2': 'p', 'param_3': 'f', 'param_4': 'v', 'param_5': 'm', 'nspname_1': 'pg_catalog'}\n",
      "2025-10-01 17:28:36,892 INFO sqlalchemy.engine.Engine SELECT pg_catalog.pg_class.relname \n",
      "FROM pg_catalog.pg_class JOIN pg_catalog.pg_namespace ON pg_catalog.pg_namespace.oid = pg_catalog.pg_class.relnamespace \n",
      "WHERE pg_catalog.pg_class.relname = %(table_name)s AND pg_catalog.pg_class.relkind = ANY (ARRAY[%(param_1)s, %(param_2)s, %(param_3)s, %(param_4)s, %(param_5)s]) AND pg_catalog.pg_table_is_visible(pg_catalog.pg_class.oid) AND pg_catalog.pg_namespace.nspname != %(nspname_1)s\n",
      "2025-10-01 17:28:36,892 INFO sqlalchemy.engine.Engine [cached since 0.02271s ago] {'table_name': 'registro_produtos', 'param_1': 'r', 'param_2': 'p', 'param_3': 'f', 'param_4': 'v', 'param_5': 'm', 'nspname_1': 'pg_catalog'}\n",
      "2025-10-01 17:28:36,894 INFO sqlalchemy.engine.Engine SELECT pg_catalog.pg_class.relname \n",
      "FROM pg_catalog.pg_class JOIN pg_catalog.pg_namespace ON pg_catalog.pg_namespace.oid = pg_catalog.pg_class.relnamespace \n",
      "WHERE pg_catalog.pg_class.relname = %(table_name)s AND pg_catalog.pg_class.relkind = ANY (ARRAY[%(param_1)s, %(param_2)s, %(param_3)s, %(param_4)s, %(param_5)s]) AND pg_catalog.pg_table_is_visible(pg_catalog.pg_class.oid) AND pg_catalog.pg_namespace.nspname != %(nspname_1)s\n",
      "2025-10-01 17:28:36,895 INFO sqlalchemy.engine.Engine [cached since 0.02514s ago] {'table_name': 'registro_fornecedores', 'param_1': 'r', 'param_2': 'p', 'param_3': 'f', 'param_4': 'v', 'param_5': 'm', 'nspname_1': 'pg_catalog'}\n",
      "2025-10-01 17:28:36,898 INFO sqlalchemy.engine.Engine SELECT pg_catalog.pg_type.typname \n",
      "FROM pg_catalog.pg_type JOIN pg_catalog.pg_namespace ON pg_catalog.pg_namespace.oid = pg_catalog.pg_type.typnamespace \n",
      "WHERE pg_catalog.pg_type.typname = %(typname_1)s AND pg_catalog.pg_type_is_visible(pg_catalog.pg_type.oid) AND pg_catalog.pg_namespace.nspname != %(nspname_1)s\n",
      "2025-10-01 17:28:36,899 INFO sqlalchemy.engine.Engine [generated in 0.00125s] {'typname_1': 'epitypes', 'nspname_1': 'pg_catalog'}\n",
      "2025-10-01 17:28:36,902 INFO sqlalchemy.engine.Engine SELECT pg_catalog.pg_type.typname \n",
      "FROM pg_catalog.pg_type JOIN pg_catalog.pg_namespace ON pg_catalog.pg_namespace.oid = pg_catalog.pg_type.typnamespace \n",
      "WHERE pg_catalog.pg_type.typname = %(typname_1)s AND pg_catalog.pg_type_is_visible(pg_catalog.pg_type.oid) AND pg_catalog.pg_namespace.nspname != %(nspname_1)s\n",
      "2025-10-01 17:28:36,903 INFO sqlalchemy.engine.Engine [cached since 0.004761s ago] {'typname_1': 'unittypes', 'nspname_1': 'pg_catalog'}\n",
      "2025-10-01 17:28:36,906 INFO sqlalchemy.engine.Engine \n",
      "CREATE TABLE categoria_epi (\n",
      "\tid SERIAL NOT NULL, \n",
      "\tnome VARCHAR(64) NOT NULL, \n",
      "\tcomentario TEXT NOT NULL, \n",
      "\tPRIMARY KEY (id)\n",
      ")\n",
      "\n",
      "\n",
      "2025-10-01 17:28:36,907 INFO sqlalchemy.engine.Engine [no key 0.00087s] {}\n",
      "2025-10-01 17:28:36,936 INFO sqlalchemy.engine.Engine CREATE UNIQUE INDEX ix_categoria_epi_nome ON categoria_epi (nome)\n",
      "2025-10-01 17:28:36,937 INFO sqlalchemy.engine.Engine [no key 0.00096s] {}\n",
      "2025-10-01 17:28:36,939 INFO sqlalchemy.engine.Engine \n",
      "CREATE TABLE categoria_insumo (\n",
      "\tid SERIAL NOT NULL, \n",
      "\tnome VARCHAR(64) NOT NULL, \n",
      "\tcomentario TEXT NOT NULL, \n",
      "\tPRIMARY KEY (id)\n",
      ")\n",
      "\n",
      "\n",
      "2025-10-01 17:28:36,940 INFO sqlalchemy.engine.Engine [no key 0.00099s] {}\n",
      "2025-10-01 17:28:36,947 INFO sqlalchemy.engine.Engine CREATE UNIQUE INDEX ix_categoria_insumo_nome ON categoria_insumo (nome)\n",
      "2025-10-01 17:28:36,947 INFO sqlalchemy.engine.Engine [no key 0.00066s] {}\n",
      "2025-10-01 17:28:36,950 INFO sqlalchemy.engine.Engine COMMIT\n"
     ]
    }
   ],
   "source": [
    "# Importação\n",
    "\n",
    "from src.db.repo.category import ( \n",
    "    CategoryEPIRepository, CategoryInputRepository, CategoryProductRepository,\n",
    "    CategoryEPIDTO, CategoryInputDTO, CategoryProductDTO\n",
    ")\n",
    "\n",
    "repo_cat_epi = CategoryEPIRepository()\n",
    "repo_cat_input = CategoryInputRepository()\n",
    "repo_cat_product = CategoryProductRepository()"
   ]
  },
  {
   "cell_type": "code",
   "execution_count": 2,
   "id": "56b1f589",
   "metadata": {},
   "outputs": [
    {
     "name": "stdout",
     "output_type": "stream",
     "text": [
      "2025-10-01 17:28:38,202 INFO sqlalchemy.engine.Engine BEGIN (implicit)\n",
      "2025-10-01 17:28:38,208 INFO sqlalchemy.engine.Engine INSERT INTO categoria_epi (nome, comentario) VALUES (%(nome)s, %(comentario)s) RETURNING categoria_epi.id\n",
      "2025-10-01 17:28:38,213 INFO sqlalchemy.engine.Engine [generated in 0.00573s] {'nome': 'Protetores oculares', 'comentario': 'Proteção contra químicos prejudiciais a visão'}\n",
      "2025-10-01 17:28:38,229 INFO sqlalchemy.engine.Engine COMMIT\n",
      "Comando realizado\n",
      "2025-10-01 17:28:38,234 INFO sqlalchemy.engine.Engine BEGIN (implicit)\n",
      "2025-10-01 17:28:38,236 INFO sqlalchemy.engine.Engine INSERT INTO categoria_insumo (nome, comentario) VALUES (%(nome)s, %(comentario)s) RETURNING categoria_insumo.id\n",
      "2025-10-01 17:28:38,237 INFO sqlalchemy.engine.Engine [generated in 0.00119s] {'nome': 'Corrosivo', 'comentario': 'O produto pode causar lesão de não manuseado de maneira adequada.'}\n",
      "2025-10-01 17:28:38,245 INFO sqlalchemy.engine.Engine COMMIT\n"
     ]
    },
    {
     "name": "stdout",
     "output_type": "stream",
     "text": [
      "2025-10-01 17:28:38,250 INFO sqlalchemy.engine.Engine BEGIN (implicit)\n",
      "2025-10-01 17:28:38,253 INFO sqlalchemy.engine.Engine INSERT INTO categoria_produto (nome, comentario) VALUES (%(nome)s, %(comentario)s) RETURNING categoria_produto.id\n",
      "2025-10-01 17:28:38,255 INFO sqlalchemy.engine.Engine [generated in 0.00223s] {'nome': 'Limpeza Domestica', 'comentario': 'Produtos voltados a uso domestico. Baixa periculosidade.'}\n",
      "2025-10-01 17:28:38,264 INFO sqlalchemy.engine.Engine COMMIT\n"
     ]
    }
   ],
   "source": [
    "repo_cat_epi.create(CategoryEPIDTO(\n",
    "    name=\"Protetores oculares\",\n",
    "    comment=\"Proteção contra químicos prejudiciais a visão\"\n",
    "))\n",
    "\n",
    "repo_cat_input.create(CategoryInputDTO(\n",
    "    name=\"Corrosivo\",\n",
    "    comment=\"O produto pode causar lesão de não manuseado de maneira adequada.\"\n",
    "))\n",
    "\n",
    "repo_cat_product.create(CategoryProductDTO(\n",
    "    name=\"Limpeza Domestica\",\n",
    "    comment=\"Produtos voltados a uso domestico. Baixa periculosidade.\"\n",
    "))\n"
   ]
  },
  {
   "cell_type": "markdown",
   "id": "c3f86f6b",
   "metadata": {},
   "source": [
    "#### Formula"
   ]
  },
  {
   "cell_type": "code",
   "execution_count": 1,
   "id": "0241e060",
   "metadata": {},
   "outputs": [
    {
     "name": "stdout",
     "output_type": "stream",
     "text": [
      "2025-10-01 18:51:57,042 INFO sqlalchemy.engine.Engine select pg_catalog.version()\n",
      "2025-10-01 18:51:57,042 INFO sqlalchemy.engine.Engine [raw sql] {}\n",
      "2025-10-01 18:51:57,045 INFO sqlalchemy.engine.Engine select current_schema()\n",
      "2025-10-01 18:51:57,045 INFO sqlalchemy.engine.Engine [raw sql] {}\n",
      "2025-10-01 18:51:57,047 INFO sqlalchemy.engine.Engine show standard_conforming_strings\n",
      "2025-10-01 18:51:57,048 INFO sqlalchemy.engine.Engine [raw sql] {}\n",
      "2025-10-01 18:51:57,049 INFO sqlalchemy.engine.Engine BEGIN (implicit)\n",
      "2025-10-01 18:51:57,050 INFO sqlalchemy.engine.Engine COMMIT\n",
      "2025-10-01 18:51:57,167 INFO sqlalchemy.engine.Engine BEGIN (implicit)\n",
      "2025-10-01 18:51:57,171 INFO sqlalchemy.engine.Engine SELECT pg_catalog.pg_class.relname \n",
      "FROM pg_catalog.pg_class JOIN pg_catalog.pg_namespace ON pg_catalog.pg_namespace.oid = pg_catalog.pg_class.relnamespace \n",
      "WHERE pg_catalog.pg_class.relname = %(table_name)s AND pg_catalog.pg_class.relkind = ANY (ARRAY[%(param_1)s, %(param_2)s, %(param_3)s, %(param_4)s, %(param_5)s]) AND pg_catalog.pg_table_is_visible(pg_catalog.pg_class.oid) AND pg_catalog.pg_namespace.nspname != %(nspname_1)s\n",
      "2025-10-01 18:51:57,173 INFO sqlalchemy.engine.Engine [generated in 0.00198s] {'table_name': 'formulas', 'param_1': 'r', 'param_2': 'p', 'param_3': 'f', 'param_4': 'v', 'param_5': 'm', 'nspname_1': 'pg_catalog'}\n",
      "2025-10-01 18:51:57,183 INFO sqlalchemy.engine.Engine SELECT pg_catalog.pg_class.relname \n",
      "FROM pg_catalog.pg_class JOIN pg_catalog.pg_namespace ON pg_catalog.pg_namespace.oid = pg_catalog.pg_class.relnamespace \n",
      "WHERE pg_catalog.pg_class.relname = %(table_name)s AND pg_catalog.pg_class.relkind = ANY (ARRAY[%(param_1)s, %(param_2)s, %(param_3)s, %(param_4)s, %(param_5)s]) AND pg_catalog.pg_table_is_visible(pg_catalog.pg_class.oid) AND pg_catalog.pg_namespace.nspname != %(nspname_1)s\n",
      "2025-10-01 18:51:57,184 INFO sqlalchemy.engine.Engine [cached since 0.01279s ago] {'table_name': 'categoria_epi', 'param_1': 'r', 'param_2': 'p', 'param_3': 'f', 'param_4': 'v', 'param_5': 'm', 'nspname_1': 'pg_catalog'}\n",
      "2025-10-01 18:51:57,189 INFO sqlalchemy.engine.Engine SELECT pg_catalog.pg_class.relname \n",
      "FROM pg_catalog.pg_class JOIN pg_catalog.pg_namespace ON pg_catalog.pg_namespace.oid = pg_catalog.pg_class.relnamespace \n",
      "WHERE pg_catalog.pg_class.relname = %(table_name)s AND pg_catalog.pg_class.relkind = ANY (ARRAY[%(param_1)s, %(param_2)s, %(param_3)s, %(param_4)s, %(param_5)s]) AND pg_catalog.pg_table_is_visible(pg_catalog.pg_class.oid) AND pg_catalog.pg_namespace.nspname != %(nspname_1)s\n",
      "2025-10-01 18:51:57,189 INFO sqlalchemy.engine.Engine [cached since 0.01822s ago] {'table_name': 'categoria_insumo', 'param_1': 'r', 'param_2': 'p', 'param_3': 'f', 'param_4': 'v', 'param_5': 'm', 'nspname_1': 'pg_catalog'}\n",
      "2025-10-01 18:51:57,191 INFO sqlalchemy.engine.Engine SELECT pg_catalog.pg_class.relname \n",
      "FROM pg_catalog.pg_class JOIN pg_catalog.pg_namespace ON pg_catalog.pg_namespace.oid = pg_catalog.pg_class.relnamespace \n",
      "WHERE pg_catalog.pg_class.relname = %(table_name)s AND pg_catalog.pg_class.relkind = ANY (ARRAY[%(param_1)s, %(param_2)s, %(param_3)s, %(param_4)s, %(param_5)s]) AND pg_catalog.pg_table_is_visible(pg_catalog.pg_class.oid) AND pg_catalog.pg_namespace.nspname != %(nspname_1)s\n",
      "2025-10-01 18:51:57,194 INFO sqlalchemy.engine.Engine [cached since 0.02225s ago] {'table_name': 'categoria_produto', 'param_1': 'r', 'param_2': 'p', 'param_3': 'f', 'param_4': 'v', 'param_5': 'm', 'nspname_1': 'pg_catalog'}\n",
      "2025-10-01 18:51:57,199 INFO sqlalchemy.engine.Engine SELECT pg_catalog.pg_class.relname \n",
      "FROM pg_catalog.pg_class JOIN pg_catalog.pg_namespace ON pg_catalog.pg_namespace.oid = pg_catalog.pg_class.relnamespace \n",
      "WHERE pg_catalog.pg_class.relname = %(table_name)s AND pg_catalog.pg_class.relkind = ANY (ARRAY[%(param_1)s, %(param_2)s, %(param_3)s, %(param_4)s, %(param_5)s]) AND pg_catalog.pg_table_is_visible(pg_catalog.pg_class.oid) AND pg_catalog.pg_namespace.nspname != %(nspname_1)s\n",
      "2025-10-01 18:51:57,202 INFO sqlalchemy.engine.Engine [cached since 0.03118s ago] {'table_name': 'registro_epi', 'param_1': 'r', 'param_2': 'p', 'param_3': 'f', 'param_4': 'v', 'param_5': 'm', 'nspname_1': 'pg_catalog'}\n",
      "2025-10-01 18:51:57,205 INFO sqlalchemy.engine.Engine SELECT pg_catalog.pg_class.relname \n",
      "FROM pg_catalog.pg_class JOIN pg_catalog.pg_namespace ON pg_catalog.pg_namespace.oid = pg_catalog.pg_class.relnamespace \n",
      "WHERE pg_catalog.pg_class.relname = %(table_name)s AND pg_catalog.pg_class.relkind = ANY (ARRAY[%(param_1)s, %(param_2)s, %(param_3)s, %(param_4)s, %(param_5)s]) AND pg_catalog.pg_table_is_visible(pg_catalog.pg_class.oid) AND pg_catalog.pg_namespace.nspname != %(nspname_1)s\n",
      "2025-10-01 18:51:57,206 INFO sqlalchemy.engine.Engine [cached since 0.0345s ago] {'table_name': 'registro_insumos', 'param_1': 'r', 'param_2': 'p', 'param_3': 'f', 'param_4': 'v', 'param_5': 'm', 'nspname_1': 'pg_catalog'}\n",
      "2025-10-01 18:51:57,207 INFO sqlalchemy.engine.Engine SELECT pg_catalog.pg_class.relname \n",
      "FROM pg_catalog.pg_class JOIN pg_catalog.pg_namespace ON pg_catalog.pg_namespace.oid = pg_catalog.pg_class.relnamespace \n",
      "WHERE pg_catalog.pg_class.relname = %(table_name)s AND pg_catalog.pg_class.relkind = ANY (ARRAY[%(param_1)s, %(param_2)s, %(param_3)s, %(param_4)s, %(param_5)s]) AND pg_catalog.pg_table_is_visible(pg_catalog.pg_class.oid) AND pg_catalog.pg_namespace.nspname != %(nspname_1)s\n",
      "2025-10-01 18:51:57,208 INFO sqlalchemy.engine.Engine [cached since 0.03692s ago] {'table_name': 'registro_produtos', 'param_1': 'r', 'param_2': 'p', 'param_3': 'f', 'param_4': 'v', 'param_5': 'm', 'nspname_1': 'pg_catalog'}\n",
      "2025-10-01 18:51:57,211 INFO sqlalchemy.engine.Engine SELECT pg_catalog.pg_class.relname \n",
      "FROM pg_catalog.pg_class JOIN pg_catalog.pg_namespace ON pg_catalog.pg_namespace.oid = pg_catalog.pg_class.relnamespace \n",
      "WHERE pg_catalog.pg_class.relname = %(table_name)s AND pg_catalog.pg_class.relkind = ANY (ARRAY[%(param_1)s, %(param_2)s, %(param_3)s, %(param_4)s, %(param_5)s]) AND pg_catalog.pg_table_is_visible(pg_catalog.pg_class.oid) AND pg_catalog.pg_namespace.nspname != %(nspname_1)s\n",
      "2025-10-01 18:51:57,212 INFO sqlalchemy.engine.Engine [cached since 0.04087s ago] {'table_name': 'registro_fornecedores', 'param_1': 'r', 'param_2': 'p', 'param_3': 'f', 'param_4': 'v', 'param_5': 'm', 'nspname_1': 'pg_catalog'}\n",
      "2025-10-01 18:51:57,215 INFO sqlalchemy.engine.Engine SELECT pg_catalog.pg_type.typname \n",
      "FROM pg_catalog.pg_type JOIN pg_catalog.pg_namespace ON pg_catalog.pg_namespace.oid = pg_catalog.pg_type.typnamespace \n",
      "WHERE pg_catalog.pg_type.typname = %(typname_1)s AND pg_catalog.pg_type_is_visible(pg_catalog.pg_type.oid) AND pg_catalog.pg_namespace.nspname != %(nspname_1)s\n",
      "2025-10-01 18:51:57,217 INFO sqlalchemy.engine.Engine [generated in 0.00191s] {'typname_1': 'epitypes', 'nspname_1': 'pg_catalog'}\n",
      "2025-10-01 18:51:57,221 INFO sqlalchemy.engine.Engine SELECT pg_catalog.pg_type.typname \n",
      "FROM pg_catalog.pg_type JOIN pg_catalog.pg_namespace ON pg_catalog.pg_namespace.oid = pg_catalog.pg_type.typnamespace \n",
      "WHERE pg_catalog.pg_type.typname = %(typname_1)s AND pg_catalog.pg_type_is_visible(pg_catalog.pg_type.oid) AND pg_catalog.pg_namespace.nspname != %(nspname_1)s\n",
      "2025-10-01 18:51:57,222 INFO sqlalchemy.engine.Engine [cached since 0.006684s ago] {'typname_1': 'unittypes', 'nspname_1': 'pg_catalog'}\n",
      "2025-10-01 18:51:57,225 INFO sqlalchemy.engine.Engine COMMIT\n"
     ]
    }
   ],
   "source": [
    "from src.db.repo.models import FormuleORM, FormuleDTO\n",
    "from src.db.repo.formule import FormuleRepository\n",
    "\n",
    "repo_formule = FormuleRepository()"
   ]
  },
  {
   "cell_type": "code",
   "execution_count": 2,
   "id": "1aa882bf",
   "metadata": {},
   "outputs": [
    {
     "name": "stdout",
     "output_type": "stream",
     "text": [
      "2025-10-01 18:52:05,278 INFO sqlalchemy.engine.Engine BEGIN (implicit)\n",
      "2025-10-01 18:52:05,284 INFO sqlalchemy.engine.Engine INSERT INTO formulas (nome, funcao, cod_cas, qtd_base) VALUES (%(nome)s, %(funcao)s, %(cod_cas)s, %(qtd_base)s) RETURNING formulas.id\n",
      "2025-10-01 18:52:05,286 INFO sqlalchemy.engine.Engine [generated in 0.00188s] {'nome': 'Detergente', 'funcao': 'Limpa as coisas', 'cod_cas': '0838', 'qtd_base': 1000}\n",
      "2025-10-01 18:52:05,312 INFO sqlalchemy.engine.Engine COMMIT\n"
     ]
    }
   ],
   "source": [
    "repo_formule.create(FormuleDTO(\n",
    "    name=\"Detergente\",\n",
    "    function=\"Limpa as coisas\",\n",
    "    cod_cas=\"0838\",\n",
    "    qtd_base=1000\n",
    "))"
   ]
  },
  {
   "cell_type": "markdown",
   "id": "16a92335",
   "metadata": {},
   "source": [
    "#### Registros"
   ]
  },
  {
   "cell_type": "code",
   "execution_count": 1,
   "id": "9dae8435",
   "metadata": {},
   "outputs": [
    {
     "name": "stdout",
     "output_type": "stream",
     "text": [
      "2025-10-01 18:55:54,810 INFO sqlalchemy.engine.Engine select pg_catalog.version()\n",
      "2025-10-01 18:55:54,812 INFO sqlalchemy.engine.Engine [raw sql] {}\n",
      "2025-10-01 18:55:54,813 INFO sqlalchemy.engine.Engine select current_schema()\n",
      "2025-10-01 18:55:54,814 INFO sqlalchemy.engine.Engine [raw sql] {}\n",
      "2025-10-01 18:55:54,815 INFO sqlalchemy.engine.Engine show standard_conforming_strings\n",
      "2025-10-01 18:55:54,816 INFO sqlalchemy.engine.Engine [raw sql] {}\n",
      "2025-10-01 18:55:54,817 INFO sqlalchemy.engine.Engine BEGIN (implicit)\n",
      "2025-10-01 18:55:54,819 INFO sqlalchemy.engine.Engine COMMIT\n",
      "2025-10-01 18:55:54,875 INFO sqlalchemy.engine.Engine BEGIN (implicit)\n",
      "2025-10-01 18:55:54,879 INFO sqlalchemy.engine.Engine SELECT pg_catalog.pg_class.relname \n",
      "FROM pg_catalog.pg_class JOIN pg_catalog.pg_namespace ON pg_catalog.pg_namespace.oid = pg_catalog.pg_class.relnamespace \n",
      "WHERE pg_catalog.pg_class.relname = %(table_name)s AND pg_catalog.pg_class.relkind = ANY (ARRAY[%(param_1)s, %(param_2)s, %(param_3)s, %(param_4)s, %(param_5)s]) AND pg_catalog.pg_table_is_visible(pg_catalog.pg_class.oid) AND pg_catalog.pg_namespace.nspname != %(nspname_1)s\n",
      "2025-10-01 18:55:54,879 INFO sqlalchemy.engine.Engine [generated in 0.00100s] {'table_name': 'formulas', 'param_1': 'r', 'param_2': 'p', 'param_3': 'f', 'param_4': 'v', 'param_5': 'm', 'nspname_1': 'pg_catalog'}\n",
      "2025-10-01 18:55:54,883 INFO sqlalchemy.engine.Engine SELECT pg_catalog.pg_class.relname \n",
      "FROM pg_catalog.pg_class JOIN pg_catalog.pg_namespace ON pg_catalog.pg_namespace.oid = pg_catalog.pg_class.relnamespace \n",
      "WHERE pg_catalog.pg_class.relname = %(table_name)s AND pg_catalog.pg_class.relkind = ANY (ARRAY[%(param_1)s, %(param_2)s, %(param_3)s, %(param_4)s, %(param_5)s]) AND pg_catalog.pg_table_is_visible(pg_catalog.pg_class.oid) AND pg_catalog.pg_namespace.nspname != %(nspname_1)s\n",
      "2025-10-01 18:55:54,884 INFO sqlalchemy.engine.Engine [cached since 0.005848s ago] {'table_name': 'categoria_epi', 'param_1': 'r', 'param_2': 'p', 'param_3': 'f', 'param_4': 'v', 'param_5': 'm', 'nspname_1': 'pg_catalog'}\n",
      "2025-10-01 18:55:54,886 INFO sqlalchemy.engine.Engine SELECT pg_catalog.pg_class.relname \n",
      "FROM pg_catalog.pg_class JOIN pg_catalog.pg_namespace ON pg_catalog.pg_namespace.oid = pg_catalog.pg_class.relnamespace \n",
      "WHERE pg_catalog.pg_class.relname = %(table_name)s AND pg_catalog.pg_class.relkind = ANY (ARRAY[%(param_1)s, %(param_2)s, %(param_3)s, %(param_4)s, %(param_5)s]) AND pg_catalog.pg_table_is_visible(pg_catalog.pg_class.oid) AND pg_catalog.pg_namespace.nspname != %(nspname_1)s\n",
      "2025-10-01 18:55:54,888 INFO sqlalchemy.engine.Engine [cached since 0.009119s ago] {'table_name': 'categoria_insumo', 'param_1': 'r', 'param_2': 'p', 'param_3': 'f', 'param_4': 'v', 'param_5': 'm', 'nspname_1': 'pg_catalog'}\n",
      "2025-10-01 18:55:54,889 INFO sqlalchemy.engine.Engine SELECT pg_catalog.pg_class.relname \n",
      "FROM pg_catalog.pg_class JOIN pg_catalog.pg_namespace ON pg_catalog.pg_namespace.oid = pg_catalog.pg_class.relnamespace \n",
      "WHERE pg_catalog.pg_class.relname = %(table_name)s AND pg_catalog.pg_class.relkind = ANY (ARRAY[%(param_1)s, %(param_2)s, %(param_3)s, %(param_4)s, %(param_5)s]) AND pg_catalog.pg_table_is_visible(pg_catalog.pg_class.oid) AND pg_catalog.pg_namespace.nspname != %(nspname_1)s\n",
      "2025-10-01 18:55:54,890 INFO sqlalchemy.engine.Engine [cached since 0.01146s ago] {'table_name': 'categoria_produto', 'param_1': 'r', 'param_2': 'p', 'param_3': 'f', 'param_4': 'v', 'param_5': 'm', 'nspname_1': 'pg_catalog'}\n",
      "2025-10-01 18:55:54,891 INFO sqlalchemy.engine.Engine SELECT pg_catalog.pg_class.relname \n",
      "FROM pg_catalog.pg_class JOIN pg_catalog.pg_namespace ON pg_catalog.pg_namespace.oid = pg_catalog.pg_class.relnamespace \n",
      "WHERE pg_catalog.pg_class.relname = %(table_name)s AND pg_catalog.pg_class.relkind = ANY (ARRAY[%(param_1)s, %(param_2)s, %(param_3)s, %(param_4)s, %(param_5)s]) AND pg_catalog.pg_table_is_visible(pg_catalog.pg_class.oid) AND pg_catalog.pg_namespace.nspname != %(nspname_1)s\n",
      "2025-10-01 18:55:54,893 INFO sqlalchemy.engine.Engine [cached since 0.01404s ago] {'table_name': 'registro_epi', 'param_1': 'r', 'param_2': 'p', 'param_3': 'f', 'param_4': 'v', 'param_5': 'm', 'nspname_1': 'pg_catalog'}\n",
      "2025-10-01 18:55:54,895 INFO sqlalchemy.engine.Engine SELECT pg_catalog.pg_class.relname \n",
      "FROM pg_catalog.pg_class JOIN pg_catalog.pg_namespace ON pg_catalog.pg_namespace.oid = pg_catalog.pg_class.relnamespace \n",
      "WHERE pg_catalog.pg_class.relname = %(table_name)s AND pg_catalog.pg_class.relkind = ANY (ARRAY[%(param_1)s, %(param_2)s, %(param_3)s, %(param_4)s, %(param_5)s]) AND pg_catalog.pg_table_is_visible(pg_catalog.pg_class.oid) AND pg_catalog.pg_namespace.nspname != %(nspname_1)s\n",
      "2025-10-01 18:55:54,896 INFO sqlalchemy.engine.Engine [cached since 0.01783s ago] {'table_name': 'registro_insumos', 'param_1': 'r', 'param_2': 'p', 'param_3': 'f', 'param_4': 'v', 'param_5': 'm', 'nspname_1': 'pg_catalog'}\n",
      "2025-10-01 18:55:54,898 INFO sqlalchemy.engine.Engine SELECT pg_catalog.pg_class.relname \n",
      "FROM pg_catalog.pg_class JOIN pg_catalog.pg_namespace ON pg_catalog.pg_namespace.oid = pg_catalog.pg_class.relnamespace \n",
      "WHERE pg_catalog.pg_class.relname = %(table_name)s AND pg_catalog.pg_class.relkind = ANY (ARRAY[%(param_1)s, %(param_2)s, %(param_3)s, %(param_4)s, %(param_5)s]) AND pg_catalog.pg_table_is_visible(pg_catalog.pg_class.oid) AND pg_catalog.pg_namespace.nspname != %(nspname_1)s\n",
      "2025-10-01 18:55:54,900 INFO sqlalchemy.engine.Engine [cached since 0.02109s ago] {'table_name': 'registro_produtos', 'param_1': 'r', 'param_2': 'p', 'param_3': 'f', 'param_4': 'v', 'param_5': 'm', 'nspname_1': 'pg_catalog'}\n",
      "2025-10-01 18:55:54,903 INFO sqlalchemy.engine.Engine SELECT pg_catalog.pg_class.relname \n",
      "FROM pg_catalog.pg_class JOIN pg_catalog.pg_namespace ON pg_catalog.pg_namespace.oid = pg_catalog.pg_class.relnamespace \n",
      "WHERE pg_catalog.pg_class.relname = %(table_name)s AND pg_catalog.pg_class.relkind = ANY (ARRAY[%(param_1)s, %(param_2)s, %(param_3)s, %(param_4)s, %(param_5)s]) AND pg_catalog.pg_table_is_visible(pg_catalog.pg_class.oid) AND pg_catalog.pg_namespace.nspname != %(nspname_1)s\n",
      "2025-10-01 18:55:54,905 INFO sqlalchemy.engine.Engine [cached since 0.02612s ago] {'table_name': 'registro_fornecedores', 'param_1': 'r', 'param_2': 'p', 'param_3': 'f', 'param_4': 'v', 'param_5': 'm', 'nspname_1': 'pg_catalog'}\n",
      "2025-10-01 18:55:54,909 INFO sqlalchemy.engine.Engine SELECT pg_catalog.pg_type.typname \n",
      "FROM pg_catalog.pg_type JOIN pg_catalog.pg_namespace ON pg_catalog.pg_namespace.oid = pg_catalog.pg_type.typnamespace \n",
      "WHERE pg_catalog.pg_type.typname = %(typname_1)s AND pg_catalog.pg_type_is_visible(pg_catalog.pg_type.oid) AND pg_catalog.pg_namespace.nspname != %(nspname_1)s\n",
      "2025-10-01 18:55:54,911 INFO sqlalchemy.engine.Engine [generated in 0.00231s] {'typname_1': 'epitypes', 'nspname_1': 'pg_catalog'}\n",
      "2025-10-01 18:55:54,913 INFO sqlalchemy.engine.Engine SELECT pg_catalog.pg_type.typname \n",
      "FROM pg_catalog.pg_type JOIN pg_catalog.pg_namespace ON pg_catalog.pg_namespace.oid = pg_catalog.pg_type.typnamespace \n",
      "WHERE pg_catalog.pg_type.typname = %(typname_1)s AND pg_catalog.pg_type_is_visible(pg_catalog.pg_type.oid) AND pg_catalog.pg_namespace.nspname != %(nspname_1)s\n",
      "2025-10-01 18:55:54,914 INFO sqlalchemy.engine.Engine [cached since 0.005402s ago] {'typname_1': 'unittypes', 'nspname_1': 'pg_catalog'}\n",
      "2025-10-01 18:55:54,916 INFO sqlalchemy.engine.Engine COMMIT\n"
     ]
    }
   ],
   "source": [
    "from src.db.repo.models import (\n",
    "    RegistryEPIDTO, \n",
    "    RegistryInputDTO, \n",
    "    RegistryProductDTO, \n",
    "    RegistrySuplierDTO,\n",
    "    SuppliersIdentifersDTO, \n",
    "    SuppliersContactsDTO,\n",
    "    EPITypes, UnitTypes\n",
    ")\n",
    "from src.db.repo.registry import (\n",
    "    RegistryEPIRepository,\n",
    "    RegistryInputRepository,\n",
    "    RegistryProductRepository,\n",
    "    RegistrySuplierRepository,\n",
    ")\n",
    "\n",
    "\n",
    "repo_reg_epi = RegistryEPIRepository()\n",
    "repo_reg_input = RegistryInputRepository()\n",
    "repo_reg_product = RegistryProductRepository()\n",
    "repo_reg_suplier = RegistrySuplierRepository()"
   ]
  },
  {
   "cell_type": "code",
   "execution_count": null,
   "id": "e9db7aa4",
   "metadata": {},
   "outputs": [
    {
     "name": "stdout",
     "output_type": "stream",
     "text": [
      "2025-10-01 18:55:56,552 INFO sqlalchemy.engine.Engine BEGIN (implicit)\n",
      "2025-10-01 18:55:56,558 INFO sqlalchemy.engine.Engine INSERT INTO registro_fornecedores (nome, cnpj, cpf, numero, email, outros_contatos) VALUES (%(nome)s, %(cnpj)s, %(cpf)s, %(numero)s, %(email)s, %(outros_contatos)s) RETURNING registro_fornecedores.id\n",
      "2025-10-01 18:55:56,564 INFO sqlalchemy.engine.Engine [generated in 0.00670s] {'nome': 'Entregadora alpha', 'cnpj': '1234567890', 'cpf': None, 'numero': '12345678', 'email': 'email@exemplo.com', 'outros_contatos': 'Outros meios de contato'}\n",
      "2025-10-01 18:55:56,585 INFO sqlalchemy.engine.Engine COMMIT\n"
     ]
    }
   ],
   "source": [
    "from datetime import datetime\n",
    "\n",
    "# repo_reg_epi.create(RegistryEPIDTO(\n",
    "#     name=\"Luvas gamer de borracha\",\n",
    "#     current_quantity=10,\n",
    "#     ca_number=\"40028922\",\n",
    "#     id_batch=\"02110413\",\n",
    "#     type=EPITypes.TYPE1,\n",
    "#     id_category=1\n",
    "#     # validity=datetime.now()\n",
    "# ))\n",
    "\n",
    "# repo_reg_input.create(RegistryInputDTO(\n",
    "#     name=\"Ácido hialurônico\",\n",
    "#     current_quantity=100,\n",
    "#     measure_unit=UnitTypes.LITER,\n",
    "#     id_category=1,\n",
    "# ))\n",
    "\n",
    "# repo_reg_product.create(RegistryProductDTO(\n",
    "#     name=\"Detergente\",\n",
    "#     current_quantity=100,\n",
    "#     id_formula=1,\n",
    "#     id_category=1,\n",
    "#     tag=\"Algum dado espefíco do produto.\",\n",
    "# ))\n",
    "\n",
    "# repo_reg_suplier.create(RegistrySuplierDTO(\n",
    "#     identfiers=SuppliersIdentifersDTO(\n",
    "#         name=\"Entregadora alpha\",\n",
    "#         cnpj=\"1234567890\"\n",
    "#     ),\n",
    "#     contact=SuppliersContactsDTO(\n",
    "#         number=\"12345678\",\n",
    "#         email=\"email@exemplo.com\",\n",
    "#         another_contact=\"Outros meios de contato\"\n",
    "#     )\n",
    "# ))"
   ]
  },
  {
   "cell_type": "code",
   "execution_count": 6,
   "id": "4548d3a3",
   "metadata": {},
   "outputs": [
    {
     "name": "stdout",
     "output_type": "stream",
     "text": [
      "2025-10-01 18:22:00.100995\n"
     ]
    }
   ],
   "source": [
    "from datetime import datetime\n",
    "print(datetime.now())"
   ]
  },
  {
   "cell_type": "markdown",
   "id": "b91d3f0f",
   "metadata": {},
   "source": [
    "#### Movimentações"
   ]
  },
  {
   "cell_type": "code",
   "execution_count": null,
   "id": "710f0ab5",
   "metadata": {},
   "outputs": [],
   "source": [
    "from src.db.repo.models import (\n",
    "    MovInputDTO, MovProductDTO, MovEPIDTO,\n",
    "    MovInputORM, MovProductORM, MovEPIORM\n",
    ")\n",
    "\n"
   ]
  }
 ],
 "metadata": {
  "kernelspec": {
   "display_name": ".venv (3.13.5)",
   "language": "python",
   "name": "python3"
  },
  "language_info": {
   "codemirror_mode": {
    "name": "ipython",
    "version": 3
   },
   "file_extension": ".py",
   "mimetype": "text/x-python",
   "name": "python",
   "nbconvert_exporter": "python",
   "pygments_lexer": "ipython3",
   "version": "3.13.5"
  }
 },
 "nbformat": 4,
 "nbformat_minor": 5
}
