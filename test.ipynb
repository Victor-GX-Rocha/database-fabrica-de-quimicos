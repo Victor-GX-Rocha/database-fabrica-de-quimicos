{
 "cells": [
  {
   "cell_type": "markdown",
   "id": "431a5403",
   "metadata": {},
   "source": [
    "## Banco de dados"
   ]
  },
  {
   "cell_type": "markdown",
   "id": "4bd1bf24",
   "metadata": {},
   "source": [
    "### Adicionando coisas"
   ]
  },
  {
   "cell_type": "markdown",
   "id": "e1b8e73f",
   "metadata": {},
   "source": [
    "#### Categorias"
   ]
  },
  {
   "cell_type": "code",
   "execution_count": 1,
   "id": "23d2d6fe",
   "metadata": {},
   "outputs": [
    {
     "name": "stdout",
     "output_type": "stream",
     "text": [
      "2025-10-01 17:28:36,813 INFO sqlalchemy.engine.Engine select pg_catalog.version()\n",
      "2025-10-01 17:28:36,814 INFO sqlalchemy.engine.Engine [raw sql] {}\n",
      "2025-10-01 17:28:36,817 INFO sqlalchemy.engine.Engine select current_schema()\n",
      "2025-10-01 17:28:36,819 INFO sqlalchemy.engine.Engine [raw sql] {}\n",
      "2025-10-01 17:28:36,821 INFO sqlalchemy.engine.Engine show standard_conforming_strings\n",
      "2025-10-01 17:28:36,821 INFO sqlalchemy.engine.Engine [raw sql] {}\n",
      "2025-10-01 17:28:36,822 INFO sqlalchemy.engine.Engine BEGIN (implicit)\n",
      "2025-10-01 17:28:36,823 INFO sqlalchemy.engine.Engine COMMIT\n",
      "2025-10-01 17:28:36,866 INFO sqlalchemy.engine.Engine BEGIN (implicit)\n",
      "2025-10-01 17:28:36,870 INFO sqlalchemy.engine.Engine SELECT pg_catalog.pg_class.relname \n",
      "FROM pg_catalog.pg_class JOIN pg_catalog.pg_namespace ON pg_catalog.pg_namespace.oid = pg_catalog.pg_class.relnamespace \n",
      "WHERE pg_catalog.pg_class.relname = %(table_name)s AND pg_catalog.pg_class.relkind = ANY (ARRAY[%(param_1)s, %(param_2)s, %(param_3)s, %(param_4)s, %(param_5)s]) AND pg_catalog.pg_table_is_visible(pg_catalog.pg_class.oid) AND pg_catalog.pg_namespace.nspname != %(nspname_1)s\n",
      "2025-10-01 17:28:36,870 INFO sqlalchemy.engine.Engine [generated in 0.00073s] {'table_name': 'formulas', 'param_1': 'r', 'param_2': 'p', 'param_3': 'f', 'param_4': 'v', 'param_5': 'm', 'nspname_1': 'pg_catalog'}\n",
      "2025-10-01 17:28:36,879 INFO sqlalchemy.engine.Engine SELECT pg_catalog.pg_class.relname \n",
      "FROM pg_catalog.pg_class JOIN pg_catalog.pg_namespace ON pg_catalog.pg_namespace.oid = pg_catalog.pg_class.relnamespace \n",
      "WHERE pg_catalog.pg_class.relname = %(table_name)s AND pg_catalog.pg_class.relkind = ANY (ARRAY[%(param_1)s, %(param_2)s, %(param_3)s, %(param_4)s, %(param_5)s]) AND pg_catalog.pg_table_is_visible(pg_catalog.pg_class.oid) AND pg_catalog.pg_namespace.nspname != %(nspname_1)s\n",
      "2025-10-01 17:28:36,880 INFO sqlalchemy.engine.Engine [cached since 0.009986s ago] {'table_name': 'categoria_epi', 'param_1': 'r', 'param_2': 'p', 'param_3': 'f', 'param_4': 'v', 'param_5': 'm', 'nspname_1': 'pg_catalog'}\n",
      "2025-10-01 17:28:36,881 INFO sqlalchemy.engine.Engine SELECT pg_catalog.pg_class.relname \n",
      "FROM pg_catalog.pg_class JOIN pg_catalog.pg_namespace ON pg_catalog.pg_namespace.oid = pg_catalog.pg_class.relnamespace \n",
      "WHERE pg_catalog.pg_class.relname = %(table_name)s AND pg_catalog.pg_class.relkind = ANY (ARRAY[%(param_1)s, %(param_2)s, %(param_3)s, %(param_4)s, %(param_5)s]) AND pg_catalog.pg_table_is_visible(pg_catalog.pg_class.oid) AND pg_catalog.pg_namespace.nspname != %(nspname_1)s\n",
      "2025-10-01 17:28:36,881 INFO sqlalchemy.engine.Engine [cached since 0.01165s ago] {'table_name': 'categoria_insumo', 'param_1': 'r', 'param_2': 'p', 'param_3': 'f', 'param_4': 'v', 'param_5': 'm', 'nspname_1': 'pg_catalog'}\n",
      "2025-10-01 17:28:36,883 INFO sqlalchemy.engine.Engine SELECT pg_catalog.pg_class.relname \n",
      "FROM pg_catalog.pg_class JOIN pg_catalog.pg_namespace ON pg_catalog.pg_namespace.oid = pg_catalog.pg_class.relnamespace \n",
      "WHERE pg_catalog.pg_class.relname = %(table_name)s AND pg_catalog.pg_class.relkind = ANY (ARRAY[%(param_1)s, %(param_2)s, %(param_3)s, %(param_4)s, %(param_5)s]) AND pg_catalog.pg_table_is_visible(pg_catalog.pg_class.oid) AND pg_catalog.pg_namespace.nspname != %(nspname_1)s\n",
      "2025-10-01 17:28:36,885 INFO sqlalchemy.engine.Engine [cached since 0.01492s ago] {'table_name': 'categoria_produto', 'param_1': 'r', 'param_2': 'p', 'param_3': 'f', 'param_4': 'v', 'param_5': 'm', 'nspname_1': 'pg_catalog'}\n",
      "2025-10-01 17:28:36,887 INFO sqlalchemy.engine.Engine SELECT pg_catalog.pg_class.relname \n",
      "FROM pg_catalog.pg_class JOIN pg_catalog.pg_namespace ON pg_catalog.pg_namespace.oid = pg_catalog.pg_class.relnamespace \n",
      "WHERE pg_catalog.pg_class.relname = %(table_name)s AND pg_catalog.pg_class.relkind = ANY (ARRAY[%(param_1)s, %(param_2)s, %(param_3)s, %(param_4)s, %(param_5)s]) AND pg_catalog.pg_table_is_visible(pg_catalog.pg_class.oid) AND pg_catalog.pg_namespace.nspname != %(nspname_1)s\n",
      "2025-10-01 17:28:36,887 INFO sqlalchemy.engine.Engine [cached since 0.01748s ago] {'table_name': 'registro_epi', 'param_1': 'r', 'param_2': 'p', 'param_3': 'f', 'param_4': 'v', 'param_5': 'm', 'nspname_1': 'pg_catalog'}\n",
      "2025-10-01 17:28:36,889 INFO sqlalchemy.engine.Engine SELECT pg_catalog.pg_class.relname \n",
      "FROM pg_catalog.pg_class JOIN pg_catalog.pg_namespace ON pg_catalog.pg_namespace.oid = pg_catalog.pg_class.relnamespace \n",
      "WHERE pg_catalog.pg_class.relname = %(table_name)s AND pg_catalog.pg_class.relkind = ANY (ARRAY[%(param_1)s, %(param_2)s, %(param_3)s, %(param_4)s, %(param_5)s]) AND pg_catalog.pg_table_is_visible(pg_catalog.pg_class.oid) AND pg_catalog.pg_namespace.nspname != %(nspname_1)s\n",
      "2025-10-01 17:28:36,890 INFO sqlalchemy.engine.Engine [cached since 0.01995s ago] {'table_name': 'registro_insumos', 'param_1': 'r', 'param_2': 'p', 'param_3': 'f', 'param_4': 'v', 'param_5': 'm', 'nspname_1': 'pg_catalog'}\n",
      "2025-10-01 17:28:36,892 INFO sqlalchemy.engine.Engine SELECT pg_catalog.pg_class.relname \n",
      "FROM pg_catalog.pg_class JOIN pg_catalog.pg_namespace ON pg_catalog.pg_namespace.oid = pg_catalog.pg_class.relnamespace \n",
      "WHERE pg_catalog.pg_class.relname = %(table_name)s AND pg_catalog.pg_class.relkind = ANY (ARRAY[%(param_1)s, %(param_2)s, %(param_3)s, %(param_4)s, %(param_5)s]) AND pg_catalog.pg_table_is_visible(pg_catalog.pg_class.oid) AND pg_catalog.pg_namespace.nspname != %(nspname_1)s\n",
      "2025-10-01 17:28:36,892 INFO sqlalchemy.engine.Engine [cached since 0.02271s ago] {'table_name': 'registro_produtos', 'param_1': 'r', 'param_2': 'p', 'param_3': 'f', 'param_4': 'v', 'param_5': 'm', 'nspname_1': 'pg_catalog'}\n",
      "2025-10-01 17:28:36,894 INFO sqlalchemy.engine.Engine SELECT pg_catalog.pg_class.relname \n",
      "FROM pg_catalog.pg_class JOIN pg_catalog.pg_namespace ON pg_catalog.pg_namespace.oid = pg_catalog.pg_class.relnamespace \n",
      "WHERE pg_catalog.pg_class.relname = %(table_name)s AND pg_catalog.pg_class.relkind = ANY (ARRAY[%(param_1)s, %(param_2)s, %(param_3)s, %(param_4)s, %(param_5)s]) AND pg_catalog.pg_table_is_visible(pg_catalog.pg_class.oid) AND pg_catalog.pg_namespace.nspname != %(nspname_1)s\n",
      "2025-10-01 17:28:36,895 INFO sqlalchemy.engine.Engine [cached since 0.02514s ago] {'table_name': 'registro_fornecedores', 'param_1': 'r', 'param_2': 'p', 'param_3': 'f', 'param_4': 'v', 'param_5': 'm', 'nspname_1': 'pg_catalog'}\n",
      "2025-10-01 17:28:36,898 INFO sqlalchemy.engine.Engine SELECT pg_catalog.pg_type.typname \n",
      "FROM pg_catalog.pg_type JOIN pg_catalog.pg_namespace ON pg_catalog.pg_namespace.oid = pg_catalog.pg_type.typnamespace \n",
      "WHERE pg_catalog.pg_type.typname = %(typname_1)s AND pg_catalog.pg_type_is_visible(pg_catalog.pg_type.oid) AND pg_catalog.pg_namespace.nspname != %(nspname_1)s\n",
      "2025-10-01 17:28:36,899 INFO sqlalchemy.engine.Engine [generated in 0.00125s] {'typname_1': 'epitypes', 'nspname_1': 'pg_catalog'}\n",
      "2025-10-01 17:28:36,902 INFO sqlalchemy.engine.Engine SELECT pg_catalog.pg_type.typname \n",
      "FROM pg_catalog.pg_type JOIN pg_catalog.pg_namespace ON pg_catalog.pg_namespace.oid = pg_catalog.pg_type.typnamespace \n",
      "WHERE pg_catalog.pg_type.typname = %(typname_1)s AND pg_catalog.pg_type_is_visible(pg_catalog.pg_type.oid) AND pg_catalog.pg_namespace.nspname != %(nspname_1)s\n",
      "2025-10-01 17:28:36,903 INFO sqlalchemy.engine.Engine [cached since 0.004761s ago] {'typname_1': 'unittypes', 'nspname_1': 'pg_catalog'}\n",
      "2025-10-01 17:28:36,906 INFO sqlalchemy.engine.Engine \n",
      "CREATE TABLE categoria_epi (\n",
      "\tid SERIAL NOT NULL, \n",
      "\tnome VARCHAR(64) NOT NULL, \n",
      "\tcomentario TEXT NOT NULL, \n",
      "\tPRIMARY KEY (id)\n",
      ")\n",
      "\n",
      "\n",
      "2025-10-01 17:28:36,907 INFO sqlalchemy.engine.Engine [no key 0.00087s] {}\n",
      "2025-10-01 17:28:36,936 INFO sqlalchemy.engine.Engine CREATE UNIQUE INDEX ix_categoria_epi_nome ON categoria_epi (nome)\n",
      "2025-10-01 17:28:36,937 INFO sqlalchemy.engine.Engine [no key 0.00096s] {}\n",
      "2025-10-01 17:28:36,939 INFO sqlalchemy.engine.Engine \n",
      "CREATE TABLE categoria_insumo (\n",
      "\tid SERIAL NOT NULL, \n",
      "\tnome VARCHAR(64) NOT NULL, \n",
      "\tcomentario TEXT NOT NULL, \n",
      "\tPRIMARY KEY (id)\n",
      ")\n",
      "\n",
      "\n",
      "2025-10-01 17:28:36,940 INFO sqlalchemy.engine.Engine [no key 0.00099s] {}\n",
      "2025-10-01 17:28:36,947 INFO sqlalchemy.engine.Engine CREATE UNIQUE INDEX ix_categoria_insumo_nome ON categoria_insumo (nome)\n",
      "2025-10-01 17:28:36,947 INFO sqlalchemy.engine.Engine [no key 0.00066s] {}\n",
      "2025-10-01 17:28:36,950 INFO sqlalchemy.engine.Engine COMMIT\n"
     ]
    }
   ],
   "source": [
    "# Importação\n",
    "\n",
    "from src.db.repo.category import ( \n",
    "    CategoryEPIRepository, CategoryInputRepository, CategoryProductRepository,\n",
    "    CategoryEPIDTO, CategoryInputDTO, CategoryProductDTO\n",
    ")\n",
    "\n",
    "repo_cat_epi = CategoryEPIRepository()\n",
    "repo_cat_input = CategoryInputRepository()\n",
    "repo_cat_product = CategoryProductRepository()"
   ]
  },
  {
   "cell_type": "code",
   "execution_count": 2,
   "id": "56b1f589",
   "metadata": {},
   "outputs": [
    {
     "name": "stdout",
     "output_type": "stream",
     "text": [
      "2025-10-01 17:28:38,202 INFO sqlalchemy.engine.Engine BEGIN (implicit)\n",
      "2025-10-01 17:28:38,208 INFO sqlalchemy.engine.Engine INSERT INTO categoria_epi (nome, comentario) VALUES (%(nome)s, %(comentario)s) RETURNING categoria_epi.id\n",
      "2025-10-01 17:28:38,213 INFO sqlalchemy.engine.Engine [generated in 0.00573s] {'nome': 'Protetores oculares', 'comentario': 'Proteção contra químicos prejudiciais a visão'}\n",
      "2025-10-01 17:28:38,229 INFO sqlalchemy.engine.Engine COMMIT\n",
      "Comando realizado\n",
      "2025-10-01 17:28:38,234 INFO sqlalchemy.engine.Engine BEGIN (implicit)\n",
      "2025-10-01 17:28:38,236 INFO sqlalchemy.engine.Engine INSERT INTO categoria_insumo (nome, comentario) VALUES (%(nome)s, %(comentario)s) RETURNING categoria_insumo.id\n",
      "2025-10-01 17:28:38,237 INFO sqlalchemy.engine.Engine [generated in 0.00119s] {'nome': 'Corrosivo', 'comentario': 'O produto pode causar lesão de não manuseado de maneira adequada.'}\n",
      "2025-10-01 17:28:38,245 INFO sqlalchemy.engine.Engine COMMIT\n"
     ]
    },
    {
     "name": "stdout",
     "output_type": "stream",
     "text": [
      "2025-10-01 17:28:38,250 INFO sqlalchemy.engine.Engine BEGIN (implicit)\n",
      "2025-10-01 17:28:38,253 INFO sqlalchemy.engine.Engine INSERT INTO categoria_produto (nome, comentario) VALUES (%(nome)s, %(comentario)s) RETURNING categoria_produto.id\n",
      "2025-10-01 17:28:38,255 INFO sqlalchemy.engine.Engine [generated in 0.00223s] {'nome': 'Limpeza Domestica', 'comentario': 'Produtos voltados a uso domestico. Baixa periculosidade.'}\n",
      "2025-10-01 17:28:38,264 INFO sqlalchemy.engine.Engine COMMIT\n"
     ]
    }
   ],
   "source": [
    "repo_cat_epi.create(CategoryEPIDTO(\n",
    "    name=\"Protetores oculares\",\n",
    "    comment=\"Proteção contra químicos prejudiciais a visão\"\n",
    "))\n",
    "\n",
    "repo_cat_input.create(CategoryInputDTO(\n",
    "    name=\"Corrosivo\",\n",
    "    comment=\"O produto pode causar lesão de não manuseado de maneira adequada.\"\n",
    "))\n",
    "\n",
    "repo_cat_product.create(CategoryProductDTO(\n",
    "    name=\"Limpeza Domestica\",\n",
    "    comment=\"Produtos voltados a uso domestico. Baixa periculosidade.\"\n",
    "))\n"
   ]
  },
  {
   "cell_type": "markdown",
   "id": "c3f86f6b",
   "metadata": {},
   "source": [
    "#### Formula"
   ]
  },
  {
   "cell_type": "code",
   "execution_count": 1,
   "id": "0241e060",
   "metadata": {},
   "outputs": [
    {
     "name": "stdout",
     "output_type": "stream",
     "text": [
      "2025-10-01 18:51:57,042 INFO sqlalchemy.engine.Engine select pg_catalog.version()\n",
      "2025-10-01 18:51:57,042 INFO sqlalchemy.engine.Engine [raw sql] {}\n",
      "2025-10-01 18:51:57,045 INFO sqlalchemy.engine.Engine select current_schema()\n",
      "2025-10-01 18:51:57,045 INFO sqlalchemy.engine.Engine [raw sql] {}\n",
      "2025-10-01 18:51:57,047 INFO sqlalchemy.engine.Engine show standard_conforming_strings\n",
      "2025-10-01 18:51:57,048 INFO sqlalchemy.engine.Engine [raw sql] {}\n",
      "2025-10-01 18:51:57,049 INFO sqlalchemy.engine.Engine BEGIN (implicit)\n",
      "2025-10-01 18:51:57,050 INFO sqlalchemy.engine.Engine COMMIT\n",
      "2025-10-01 18:51:57,167 INFO sqlalchemy.engine.Engine BEGIN (implicit)\n",
      "2025-10-01 18:51:57,171 INFO sqlalchemy.engine.Engine SELECT pg_catalog.pg_class.relname \n",
      "FROM pg_catalog.pg_class JOIN pg_catalog.pg_namespace ON pg_catalog.pg_namespace.oid = pg_catalog.pg_class.relnamespace \n",
      "WHERE pg_catalog.pg_class.relname = %(table_name)s AND pg_catalog.pg_class.relkind = ANY (ARRAY[%(param_1)s, %(param_2)s, %(param_3)s, %(param_4)s, %(param_5)s]) AND pg_catalog.pg_table_is_visible(pg_catalog.pg_class.oid) AND pg_catalog.pg_namespace.nspname != %(nspname_1)s\n",
      "2025-10-01 18:51:57,173 INFO sqlalchemy.engine.Engine [generated in 0.00198s] {'table_name': 'formulas', 'param_1': 'r', 'param_2': 'p', 'param_3': 'f', 'param_4': 'v', 'param_5': 'm', 'nspname_1': 'pg_catalog'}\n",
      "2025-10-01 18:51:57,183 INFO sqlalchemy.engine.Engine SELECT pg_catalog.pg_class.relname \n",
      "FROM pg_catalog.pg_class JOIN pg_catalog.pg_namespace ON pg_catalog.pg_namespace.oid = pg_catalog.pg_class.relnamespace \n",
      "WHERE pg_catalog.pg_class.relname = %(table_name)s AND pg_catalog.pg_class.relkind = ANY (ARRAY[%(param_1)s, %(param_2)s, %(param_3)s, %(param_4)s, %(param_5)s]) AND pg_catalog.pg_table_is_visible(pg_catalog.pg_class.oid) AND pg_catalog.pg_namespace.nspname != %(nspname_1)s\n",
      "2025-10-01 18:51:57,184 INFO sqlalchemy.engine.Engine [cached since 0.01279s ago] {'table_name': 'categoria_epi', 'param_1': 'r', 'param_2': 'p', 'param_3': 'f', 'param_4': 'v', 'param_5': 'm', 'nspname_1': 'pg_catalog'}\n",
      "2025-10-01 18:51:57,189 INFO sqlalchemy.engine.Engine SELECT pg_catalog.pg_class.relname \n",
      "FROM pg_catalog.pg_class JOIN pg_catalog.pg_namespace ON pg_catalog.pg_namespace.oid = pg_catalog.pg_class.relnamespace \n",
      "WHERE pg_catalog.pg_class.relname = %(table_name)s AND pg_catalog.pg_class.relkind = ANY (ARRAY[%(param_1)s, %(param_2)s, %(param_3)s, %(param_4)s, %(param_5)s]) AND pg_catalog.pg_table_is_visible(pg_catalog.pg_class.oid) AND pg_catalog.pg_namespace.nspname != %(nspname_1)s\n",
      "2025-10-01 18:51:57,189 INFO sqlalchemy.engine.Engine [cached since 0.01822s ago] {'table_name': 'categoria_insumo', 'param_1': 'r', 'param_2': 'p', 'param_3': 'f', 'param_4': 'v', 'param_5': 'm', 'nspname_1': 'pg_catalog'}\n",
      "2025-10-01 18:51:57,191 INFO sqlalchemy.engine.Engine SELECT pg_catalog.pg_class.relname \n",
      "FROM pg_catalog.pg_class JOIN pg_catalog.pg_namespace ON pg_catalog.pg_namespace.oid = pg_catalog.pg_class.relnamespace \n",
      "WHERE pg_catalog.pg_class.relname = %(table_name)s AND pg_catalog.pg_class.relkind = ANY (ARRAY[%(param_1)s, %(param_2)s, %(param_3)s, %(param_4)s, %(param_5)s]) AND pg_catalog.pg_table_is_visible(pg_catalog.pg_class.oid) AND pg_catalog.pg_namespace.nspname != %(nspname_1)s\n",
      "2025-10-01 18:51:57,194 INFO sqlalchemy.engine.Engine [cached since 0.02225s ago] {'table_name': 'categoria_produto', 'param_1': 'r', 'param_2': 'p', 'param_3': 'f', 'param_4': 'v', 'param_5': 'm', 'nspname_1': 'pg_catalog'}\n",
      "2025-10-01 18:51:57,199 INFO sqlalchemy.engine.Engine SELECT pg_catalog.pg_class.relname \n",
      "FROM pg_catalog.pg_class JOIN pg_catalog.pg_namespace ON pg_catalog.pg_namespace.oid = pg_catalog.pg_class.relnamespace \n",
      "WHERE pg_catalog.pg_class.relname = %(table_name)s AND pg_catalog.pg_class.relkind = ANY (ARRAY[%(param_1)s, %(param_2)s, %(param_3)s, %(param_4)s, %(param_5)s]) AND pg_catalog.pg_table_is_visible(pg_catalog.pg_class.oid) AND pg_catalog.pg_namespace.nspname != %(nspname_1)s\n",
      "2025-10-01 18:51:57,202 INFO sqlalchemy.engine.Engine [cached since 0.03118s ago] {'table_name': 'registro_epi', 'param_1': 'r', 'param_2': 'p', 'param_3': 'f', 'param_4': 'v', 'param_5': 'm', 'nspname_1': 'pg_catalog'}\n",
      "2025-10-01 18:51:57,205 INFO sqlalchemy.engine.Engine SELECT pg_catalog.pg_class.relname \n",
      "FROM pg_catalog.pg_class JOIN pg_catalog.pg_namespace ON pg_catalog.pg_namespace.oid = pg_catalog.pg_class.relnamespace \n",
      "WHERE pg_catalog.pg_class.relname = %(table_name)s AND pg_catalog.pg_class.relkind = ANY (ARRAY[%(param_1)s, %(param_2)s, %(param_3)s, %(param_4)s, %(param_5)s]) AND pg_catalog.pg_table_is_visible(pg_catalog.pg_class.oid) AND pg_catalog.pg_namespace.nspname != %(nspname_1)s\n",
      "2025-10-01 18:51:57,206 INFO sqlalchemy.engine.Engine [cached since 0.0345s ago] {'table_name': 'registro_insumos', 'param_1': 'r', 'param_2': 'p', 'param_3': 'f', 'param_4': 'v', 'param_5': 'm', 'nspname_1': 'pg_catalog'}\n",
      "2025-10-01 18:51:57,207 INFO sqlalchemy.engine.Engine SELECT pg_catalog.pg_class.relname \n",
      "FROM pg_catalog.pg_class JOIN pg_catalog.pg_namespace ON pg_catalog.pg_namespace.oid = pg_catalog.pg_class.relnamespace \n",
      "WHERE pg_catalog.pg_class.relname = %(table_name)s AND pg_catalog.pg_class.relkind = ANY (ARRAY[%(param_1)s, %(param_2)s, %(param_3)s, %(param_4)s, %(param_5)s]) AND pg_catalog.pg_table_is_visible(pg_catalog.pg_class.oid) AND pg_catalog.pg_namespace.nspname != %(nspname_1)s\n",
      "2025-10-01 18:51:57,208 INFO sqlalchemy.engine.Engine [cached since 0.03692s ago] {'table_name': 'registro_produtos', 'param_1': 'r', 'param_2': 'p', 'param_3': 'f', 'param_4': 'v', 'param_5': 'm', 'nspname_1': 'pg_catalog'}\n",
      "2025-10-01 18:51:57,211 INFO sqlalchemy.engine.Engine SELECT pg_catalog.pg_class.relname \n",
      "FROM pg_catalog.pg_class JOIN pg_catalog.pg_namespace ON pg_catalog.pg_namespace.oid = pg_catalog.pg_class.relnamespace \n",
      "WHERE pg_catalog.pg_class.relname = %(table_name)s AND pg_catalog.pg_class.relkind = ANY (ARRAY[%(param_1)s, %(param_2)s, %(param_3)s, %(param_4)s, %(param_5)s]) AND pg_catalog.pg_table_is_visible(pg_catalog.pg_class.oid) AND pg_catalog.pg_namespace.nspname != %(nspname_1)s\n",
      "2025-10-01 18:51:57,212 INFO sqlalchemy.engine.Engine [cached since 0.04087s ago] {'table_name': 'registro_fornecedores', 'param_1': 'r', 'param_2': 'p', 'param_3': 'f', 'param_4': 'v', 'param_5': 'm', 'nspname_1': 'pg_catalog'}\n",
      "2025-10-01 18:51:57,215 INFO sqlalchemy.engine.Engine SELECT pg_catalog.pg_type.typname \n",
      "FROM pg_catalog.pg_type JOIN pg_catalog.pg_namespace ON pg_catalog.pg_namespace.oid = pg_catalog.pg_type.typnamespace \n",
      "WHERE pg_catalog.pg_type.typname = %(typname_1)s AND pg_catalog.pg_type_is_visible(pg_catalog.pg_type.oid) AND pg_catalog.pg_namespace.nspname != %(nspname_1)s\n",
      "2025-10-01 18:51:57,217 INFO sqlalchemy.engine.Engine [generated in 0.00191s] {'typname_1': 'epitypes', 'nspname_1': 'pg_catalog'}\n",
      "2025-10-01 18:51:57,221 INFO sqlalchemy.engine.Engine SELECT pg_catalog.pg_type.typname \n",
      "FROM pg_catalog.pg_type JOIN pg_catalog.pg_namespace ON pg_catalog.pg_namespace.oid = pg_catalog.pg_type.typnamespace \n",
      "WHERE pg_catalog.pg_type.typname = %(typname_1)s AND pg_catalog.pg_type_is_visible(pg_catalog.pg_type.oid) AND pg_catalog.pg_namespace.nspname != %(nspname_1)s\n",
      "2025-10-01 18:51:57,222 INFO sqlalchemy.engine.Engine [cached since 0.006684s ago] {'typname_1': 'unittypes', 'nspname_1': 'pg_catalog'}\n",
      "2025-10-01 18:51:57,225 INFO sqlalchemy.engine.Engine COMMIT\n"
     ]
    }
   ],
   "source": [
    "from src.db.repo.models import FormuleORM, FormuleDTO\n",
    "from src.db.repo.formule import FormuleRepository\n",
    "\n",
    "repo_formule = FormuleRepository()"
   ]
  },
  {
   "cell_type": "code",
   "execution_count": 2,
   "id": "1aa882bf",
   "metadata": {},
   "outputs": [
    {
     "name": "stdout",
     "output_type": "stream",
     "text": [
      "2025-10-01 18:52:05,278 INFO sqlalchemy.engine.Engine BEGIN (implicit)\n",
      "2025-10-01 18:52:05,284 INFO sqlalchemy.engine.Engine INSERT INTO formulas (nome, funcao, cod_cas, qtd_base) VALUES (%(nome)s, %(funcao)s, %(cod_cas)s, %(qtd_base)s) RETURNING formulas.id\n",
      "2025-10-01 18:52:05,286 INFO sqlalchemy.engine.Engine [generated in 0.00188s] {'nome': 'Detergente', 'funcao': 'Limpa as coisas', 'cod_cas': '0838', 'qtd_base': 1000}\n",
      "2025-10-01 18:52:05,312 INFO sqlalchemy.engine.Engine COMMIT\n"
     ]
    }
   ],
   "source": [
    "repo_formule.create(FormuleDTO(\n",
    "    name=\"Detergente\",\n",
    "    function=\"Limpa as coisas\",\n",
    "    cod_cas=\"0838\",\n",
    "    qtd_base=1000\n",
    "))"
   ]
  },
  {
   "cell_type": "markdown",
   "id": "16a92335",
   "metadata": {},
   "source": [
    "#### Registros"
   ]
  },
  {
   "cell_type": "code",
   "execution_count": 4,
   "id": "9dae8435",
   "metadata": {},
   "outputs": [],
   "source": [
    "from src.db.repo.models import (\n",
    "    RegistryEPIDTO, \n",
    "    RegistryInputDTO, \n",
    "    RegistryProductDTO, \n",
    "    RegistrySuplierDTO,\n",
    "    SuppliersIdentifersDTO, \n",
    "    SuppliersContactsDTO,\n",
    "    EPITypes, UnitTypes\n",
    ")\n",
    "from src.db.repo.registry import (\n",
    "    RegistryEPIRepository,\n",
    "    RegistryInputRepository,\n",
    "    RegistryProductRepository,\n",
    "    RegistrySuplierRepository,\n",
    ")\n",
    "\n",
    "\n",
    "repo_reg_epi = RegistryEPIRepository()\n",
    "repo_reg_input = RegistryInputRepository()\n",
    "repo_reg_product = RegistryProductRepository()\n",
    "repo_reg_suplier = RegistrySuplierRepository()"
   ]
  },
  {
   "cell_type": "code",
   "execution_count": null,
   "id": "e9db7aa4",
   "metadata": {},
   "outputs": [
    {
     "name": "stdout",
     "output_type": "stream",
     "text": [
      "2025-10-04 06:53:10,073 INFO sqlalchemy.engine.Engine BEGIN (implicit)\n",
      "2025-10-04 06:53:10,078 INFO sqlalchemy.engine.Engine INSERT INTO registro_produtos (id_formula, categoria_id, tag, nome, quantidade_atual) VALUES (%(id_formula)s, %(categoria_id)s, %(tag)s, %(nome)s, %(quantidade_atual)s) RETURNING registro_produtos.id\n",
      "2025-10-04 06:53:10,079 INFO sqlalchemy.engine.Engine [generated in 0.00166s] {'id_formula': 1, 'categoria_id': 1, 'tag': 'Algum dado espefíco do produto.', 'nome': 'Detergente', 'quantidade_atual': 100}\n",
      "2025-10-04 06:53:10,111 INFO sqlalchemy.engine.Engine COMMIT\n"
     ]
    }
   ],
   "source": [
    "from datetime import datetime\n",
    "\n",
    "# repo_reg_epi.create(RegistryEPIDTO(\n",
    "#     name=\"Luvas gamer de borracha\",\n",
    "#     current_quantity=10,\n",
    "#     ca_number=\"40028922\",\n",
    "#     id_batch=\"02110413\",\n",
    "#     type=EPITypes.TYPE1,\n",
    "#     id_category=1\n",
    "#     # validity=datetime.now()\n",
    "# ))\n",
    "\n",
    "# repo_reg_input.create(RegistryInputDTO(\n",
    "#     name=\"Ácido hialurônico\",\n",
    "#     current_quantity=100,\n",
    "#     measure_unit=UnitTypes.LITER,\n",
    "#     id_category=1,\n",
    "# ))\n",
    "\n",
    "# repo_reg_product.create(RegistryProductDTO(\n",
    "#     name=\"Detergente\",\n",
    "#     current_quantity=100,\n",
    "#     id_formula=1,\n",
    "#     id_category=1,\n",
    "#     tag=\"Algum dado espefíco do produto.\",\n",
    "# ))\n",
    "\n",
    "# repo_reg_suplier.create(RegistrySuplierDTO(\n",
    "#     identfiers=SuppliersIdentifersDTO(\n",
    "#         name=\"Entregadora alpha\",\n",
    "#         cnpj=\"1234567890\"\n",
    "#     ),\n",
    "#     contact=SuppliersContactsDTO(\n",
    "#         number=\"12345678\",\n",
    "#         email=\"email@exemplo.com\",\n",
    "#         another_contact=\"Outros meios de contato\"\n",
    "#     )\n",
    "# ))"
   ]
  },
  {
   "cell_type": "code",
   "execution_count": 6,
   "id": "4548d3a3",
   "metadata": {},
   "outputs": [
    {
     "name": "stdout",
     "output_type": "stream",
     "text": [
      "2025-10-01 18:22:00.100995\n"
     ]
    }
   ],
   "source": [
    "from datetime import datetime\n",
    "print(datetime.now())"
   ]
  },
  {
   "cell_type": "markdown",
   "id": "b91d3f0f",
   "metadata": {},
   "source": [
    "#### Movimentações"
   ]
  },
  {
   "cell_type": "code",
   "execution_count": 1,
   "id": "710f0ab5",
   "metadata": {},
   "outputs": [
    {
     "name": "stdout",
     "output_type": "stream",
     "text": [
      "2025-10-04 06:57:42,354 INFO sqlalchemy.engine.Engine select pg_catalog.version()\n",
      "2025-10-04 06:57:42,355 INFO sqlalchemy.engine.Engine [raw sql] {}\n",
      "2025-10-04 06:57:42,356 INFO sqlalchemy.engine.Engine select current_schema()\n",
      "2025-10-04 06:57:42,357 INFO sqlalchemy.engine.Engine [raw sql] {}\n",
      "2025-10-04 06:57:42,359 INFO sqlalchemy.engine.Engine show standard_conforming_strings\n",
      "2025-10-04 06:57:42,359 INFO sqlalchemy.engine.Engine [raw sql] {}\n",
      "2025-10-04 06:57:42,360 INFO sqlalchemy.engine.Engine BEGIN (implicit)\n",
      "2025-10-04 06:57:42,361 INFO sqlalchemy.engine.Engine COMMIT\n",
      "2025-10-04 06:57:42,410 INFO sqlalchemy.engine.Engine BEGIN (implicit)\n",
      "2025-10-04 06:57:42,413 INFO sqlalchemy.engine.Engine SELECT pg_catalog.pg_class.relname \n",
      "FROM pg_catalog.pg_class JOIN pg_catalog.pg_namespace ON pg_catalog.pg_namespace.oid = pg_catalog.pg_class.relnamespace \n",
      "WHERE pg_catalog.pg_class.relname = %(table_name)s AND pg_catalog.pg_class.relkind = ANY (ARRAY[%(param_1)s, %(param_2)s, %(param_3)s, %(param_4)s, %(param_5)s]) AND pg_catalog.pg_table_is_visible(pg_catalog.pg_class.oid) AND pg_catalog.pg_namespace.nspname != %(nspname_1)s\n",
      "2025-10-04 06:57:42,414 INFO sqlalchemy.engine.Engine [generated in 0.00097s] {'table_name': 'formulas', 'param_1': 'r', 'param_2': 'p', 'param_3': 'f', 'param_4': 'v', 'param_5': 'm', 'nspname_1': 'pg_catalog'}\n",
      "2025-10-04 06:57:42,420 INFO sqlalchemy.engine.Engine SELECT pg_catalog.pg_class.relname \n",
      "FROM pg_catalog.pg_class JOIN pg_catalog.pg_namespace ON pg_catalog.pg_namespace.oid = pg_catalog.pg_class.relnamespace \n",
      "WHERE pg_catalog.pg_class.relname = %(table_name)s AND pg_catalog.pg_class.relkind = ANY (ARRAY[%(param_1)s, %(param_2)s, %(param_3)s, %(param_4)s, %(param_5)s]) AND pg_catalog.pg_table_is_visible(pg_catalog.pg_class.oid) AND pg_catalog.pg_namespace.nspname != %(nspname_1)s\n",
      "2025-10-04 06:57:42,421 INFO sqlalchemy.engine.Engine [cached since 0.008144s ago] {'table_name': 'categoria_epi', 'param_1': 'r', 'param_2': 'p', 'param_3': 'f', 'param_4': 'v', 'param_5': 'm', 'nspname_1': 'pg_catalog'}\n",
      "2025-10-04 06:57:42,423 INFO sqlalchemy.engine.Engine SELECT pg_catalog.pg_class.relname \n",
      "FROM pg_catalog.pg_class JOIN pg_catalog.pg_namespace ON pg_catalog.pg_namespace.oid = pg_catalog.pg_class.relnamespace \n",
      "WHERE pg_catalog.pg_class.relname = %(table_name)s AND pg_catalog.pg_class.relkind = ANY (ARRAY[%(param_1)s, %(param_2)s, %(param_3)s, %(param_4)s, %(param_5)s]) AND pg_catalog.pg_table_is_visible(pg_catalog.pg_class.oid) AND pg_catalog.pg_namespace.nspname != %(nspname_1)s\n",
      "2025-10-04 06:57:42,423 INFO sqlalchemy.engine.Engine [cached since 0.01042s ago] {'table_name': 'categoria_insumo', 'param_1': 'r', 'param_2': 'p', 'param_3': 'f', 'param_4': 'v', 'param_5': 'm', 'nspname_1': 'pg_catalog'}\n",
      "2025-10-04 06:57:42,425 INFO sqlalchemy.engine.Engine SELECT pg_catalog.pg_class.relname \n",
      "FROM pg_catalog.pg_class JOIN pg_catalog.pg_namespace ON pg_catalog.pg_namespace.oid = pg_catalog.pg_class.relnamespace \n",
      "WHERE pg_catalog.pg_class.relname = %(table_name)s AND pg_catalog.pg_class.relkind = ANY (ARRAY[%(param_1)s, %(param_2)s, %(param_3)s, %(param_4)s, %(param_5)s]) AND pg_catalog.pg_table_is_visible(pg_catalog.pg_class.oid) AND pg_catalog.pg_namespace.nspname != %(nspname_1)s\n",
      "2025-10-04 06:57:42,425 INFO sqlalchemy.engine.Engine [cached since 0.01242s ago] {'table_name': 'categoria_produto', 'param_1': 'r', 'param_2': 'p', 'param_3': 'f', 'param_4': 'v', 'param_5': 'm', 'nspname_1': 'pg_catalog'}\n",
      "2025-10-04 06:57:42,427 INFO sqlalchemy.engine.Engine SELECT pg_catalog.pg_class.relname \n",
      "FROM pg_catalog.pg_class JOIN pg_catalog.pg_namespace ON pg_catalog.pg_namespace.oid = pg_catalog.pg_class.relnamespace \n",
      "WHERE pg_catalog.pg_class.relname = %(table_name)s AND pg_catalog.pg_class.relkind = ANY (ARRAY[%(param_1)s, %(param_2)s, %(param_3)s, %(param_4)s, %(param_5)s]) AND pg_catalog.pg_table_is_visible(pg_catalog.pg_class.oid) AND pg_catalog.pg_namespace.nspname != %(nspname_1)s\n",
      "2025-10-04 06:57:42,428 INFO sqlalchemy.engine.Engine [cached since 0.01484s ago] {'table_name': 'registro_epi', 'param_1': 'r', 'param_2': 'p', 'param_3': 'f', 'param_4': 'v', 'param_5': 'm', 'nspname_1': 'pg_catalog'}\n",
      "2025-10-04 06:57:42,430 INFO sqlalchemy.engine.Engine SELECT pg_catalog.pg_class.relname \n",
      "FROM pg_catalog.pg_class JOIN pg_catalog.pg_namespace ON pg_catalog.pg_namespace.oid = pg_catalog.pg_class.relnamespace \n",
      "WHERE pg_catalog.pg_class.relname = %(table_name)s AND pg_catalog.pg_class.relkind = ANY (ARRAY[%(param_1)s, %(param_2)s, %(param_3)s, %(param_4)s, %(param_5)s]) AND pg_catalog.pg_table_is_visible(pg_catalog.pg_class.oid) AND pg_catalog.pg_namespace.nspname != %(nspname_1)s\n",
      "2025-10-04 06:57:42,430 INFO sqlalchemy.engine.Engine [cached since 0.01698s ago] {'table_name': 'registro_insumos', 'param_1': 'r', 'param_2': 'p', 'param_3': 'f', 'param_4': 'v', 'param_5': 'm', 'nspname_1': 'pg_catalog'}\n",
      "2025-10-04 06:57:42,431 INFO sqlalchemy.engine.Engine SELECT pg_catalog.pg_class.relname \n",
      "FROM pg_catalog.pg_class JOIN pg_catalog.pg_namespace ON pg_catalog.pg_namespace.oid = pg_catalog.pg_class.relnamespace \n",
      "WHERE pg_catalog.pg_class.relname = %(table_name)s AND pg_catalog.pg_class.relkind = ANY (ARRAY[%(param_1)s, %(param_2)s, %(param_3)s, %(param_4)s, %(param_5)s]) AND pg_catalog.pg_table_is_visible(pg_catalog.pg_class.oid) AND pg_catalog.pg_namespace.nspname != %(nspname_1)s\n",
      "2025-10-04 06:57:42,432 INFO sqlalchemy.engine.Engine [cached since 0.01859s ago] {'table_name': 'registro_produtos', 'param_1': 'r', 'param_2': 'p', 'param_3': 'f', 'param_4': 'v', 'param_5': 'm', 'nspname_1': 'pg_catalog'}\n",
      "2025-10-04 06:57:42,432 INFO sqlalchemy.engine.Engine SELECT pg_catalog.pg_class.relname \n",
      "FROM pg_catalog.pg_class JOIN pg_catalog.pg_namespace ON pg_catalog.pg_namespace.oid = pg_catalog.pg_class.relnamespace \n",
      "WHERE pg_catalog.pg_class.relname = %(table_name)s AND pg_catalog.pg_class.relkind = ANY (ARRAY[%(param_1)s, %(param_2)s, %(param_3)s, %(param_4)s, %(param_5)s]) AND pg_catalog.pg_table_is_visible(pg_catalog.pg_class.oid) AND pg_catalog.pg_namespace.nspname != %(nspname_1)s\n",
      "2025-10-04 06:57:42,433 INFO sqlalchemy.engine.Engine [cached since 0.01987s ago] {'table_name': 'registro_fornecedores', 'param_1': 'r', 'param_2': 'p', 'param_3': 'f', 'param_4': 'v', 'param_5': 'm', 'nspname_1': 'pg_catalog'}\n",
      "2025-10-04 06:57:42,434 INFO sqlalchemy.engine.Engine SELECT pg_catalog.pg_class.relname \n",
      "FROM pg_catalog.pg_class JOIN pg_catalog.pg_namespace ON pg_catalog.pg_namespace.oid = pg_catalog.pg_class.relnamespace \n",
      "WHERE pg_catalog.pg_class.relname = %(table_name)s AND pg_catalog.pg_class.relkind = ANY (ARRAY[%(param_1)s, %(param_2)s, %(param_3)s, %(param_4)s, %(param_5)s]) AND pg_catalog.pg_table_is_visible(pg_catalog.pg_class.oid) AND pg_catalog.pg_namespace.nspname != %(nspname_1)s\n",
      "2025-10-04 06:57:42,434 INFO sqlalchemy.engine.Engine [cached since 0.02132s ago] {'table_name': 'movimentacoes_insumos', 'param_1': 'r', 'param_2': 'p', 'param_3': 'f', 'param_4': 'v', 'param_5': 'm', 'nspname_1': 'pg_catalog'}\n",
      "2025-10-04 06:57:42,436 INFO sqlalchemy.engine.Engine SELECT pg_catalog.pg_class.relname \n",
      "FROM pg_catalog.pg_class JOIN pg_catalog.pg_namespace ON pg_catalog.pg_namespace.oid = pg_catalog.pg_class.relnamespace \n",
      "WHERE pg_catalog.pg_class.relname = %(table_name)s AND pg_catalog.pg_class.relkind = ANY (ARRAY[%(param_1)s, %(param_2)s, %(param_3)s, %(param_4)s, %(param_5)s]) AND pg_catalog.pg_table_is_visible(pg_catalog.pg_class.oid) AND pg_catalog.pg_namespace.nspname != %(nspname_1)s\n",
      "2025-10-04 06:57:42,437 INFO sqlalchemy.engine.Engine [cached since 0.02377s ago] {'table_name': 'movimentacoes_produtos', 'param_1': 'r', 'param_2': 'p', 'param_3': 'f', 'param_4': 'v', 'param_5': 'm', 'nspname_1': 'pg_catalog'}\n",
      "2025-10-04 06:57:42,439 INFO sqlalchemy.engine.Engine SELECT pg_catalog.pg_class.relname \n",
      "FROM pg_catalog.pg_class JOIN pg_catalog.pg_namespace ON pg_catalog.pg_namespace.oid = pg_catalog.pg_class.relnamespace \n",
      "WHERE pg_catalog.pg_class.relname = %(table_name)s AND pg_catalog.pg_class.relkind = ANY (ARRAY[%(param_1)s, %(param_2)s, %(param_3)s, %(param_4)s, %(param_5)s]) AND pg_catalog.pg_table_is_visible(pg_catalog.pg_class.oid) AND pg_catalog.pg_namespace.nspname != %(nspname_1)s\n",
      "2025-10-04 06:57:42,439 INFO sqlalchemy.engine.Engine [cached since 0.02643s ago] {'table_name': 'movimentacoes_epi', 'param_1': 'r', 'param_2': 'p', 'param_3': 'f', 'param_4': 'v', 'param_5': 'm', 'nspname_1': 'pg_catalog'}\n",
      "2025-10-04 06:57:42,443 INFO sqlalchemy.engine.Engine SELECT pg_catalog.pg_type.typname \n",
      "FROM pg_catalog.pg_type JOIN pg_catalog.pg_namespace ON pg_catalog.pg_namespace.oid = pg_catalog.pg_type.typnamespace \n",
      "WHERE pg_catalog.pg_type.typname = %(typname_1)s AND pg_catalog.pg_type_is_visible(pg_catalog.pg_type.oid) AND pg_catalog.pg_namespace.nspname != %(nspname_1)s\n",
      "2025-10-04 06:57:42,444 INFO sqlalchemy.engine.Engine [generated in 0.00177s] {'typname_1': 'epitypes', 'nspname_1': 'pg_catalog'}\n",
      "2025-10-04 06:57:42,448 INFO sqlalchemy.engine.Engine SELECT pg_catalog.pg_type.typname \n",
      "FROM pg_catalog.pg_type JOIN pg_catalog.pg_namespace ON pg_catalog.pg_namespace.oid = pg_catalog.pg_type.typnamespace \n",
      "WHERE pg_catalog.pg_type.typname = %(typname_1)s AND pg_catalog.pg_type_is_visible(pg_catalog.pg_type.oid) AND pg_catalog.pg_namespace.nspname != %(nspname_1)s\n",
      "2025-10-04 06:57:42,449 INFO sqlalchemy.engine.Engine [cached since 0.006576s ago] {'typname_1': 'unittypes', 'nspname_1': 'pg_catalog'}\n",
      "2025-10-04 06:57:42,451 INFO sqlalchemy.engine.Engine SELECT pg_catalog.pg_type.typname \n",
      "FROM pg_catalog.pg_type JOIN pg_catalog.pg_namespace ON pg_catalog.pg_namespace.oid = pg_catalog.pg_type.typnamespace \n",
      "WHERE pg_catalog.pg_type.typname = %(typname_1)s AND pg_catalog.pg_type_is_visible(pg_catalog.pg_type.oid) AND pg_catalog.pg_namespace.nspname != %(nspname_1)s\n",
      "2025-10-04 06:57:42,451 INFO sqlalchemy.engine.Engine [cached since 0.008673s ago] {'typname_1': 'movementtype', 'nspname_1': 'pg_catalog'}\n",
      "2025-10-04 06:57:42,454 INFO sqlalchemy.engine.Engine SELECT pg_catalog.pg_type.typname \n",
      "FROM pg_catalog.pg_type JOIN pg_catalog.pg_namespace ON pg_catalog.pg_namespace.oid = pg_catalog.pg_type.typnamespace \n",
      "WHERE pg_catalog.pg_type.typname = %(typname_1)s AND pg_catalog.pg_type_is_visible(pg_catalog.pg_type.oid) AND pg_catalog.pg_namespace.nspname != %(nspname_1)s\n",
      "2025-10-04 06:57:42,455 INFO sqlalchemy.engine.Engine [cached since 0.01197s ago] {'typname_1': 'packagingtypes', 'nspname_1': 'pg_catalog'}\n",
      "2025-10-04 06:57:42,457 INFO sqlalchemy.engine.Engine SELECT pg_catalog.pg_type.typname \n",
      "FROM pg_catalog.pg_type JOIN pg_catalog.pg_namespace ON pg_catalog.pg_namespace.oid = pg_catalog.pg_type.typnamespace \n",
      "WHERE pg_catalog.pg_type.typname = %(typname_1)s AND pg_catalog.pg_type_is_visible(pg_catalog.pg_type.oid) AND pg_catalog.pg_namespace.nspname != %(nspname_1)s\n",
      "2025-10-04 06:57:42,458 INFO sqlalchemy.engine.Engine [cached since 0.01529s ago] {'typname_1': 'specificationtypes', 'nspname_1': 'pg_catalog'}\n",
      "2025-10-04 06:57:42,459 INFO sqlalchemy.engine.Engine COMMIT\n"
     ]
    }
   ],
   "source": [
    "from src.db.repo.models import (\n",
    "    MovInputDTO, MovProductDTO, MovEPIDTO,\n",
    "    MovInputORM, MovProductORM, MovEPIORM,\n",
    "    MovementType, PackagingTypes, SpecificationTypes\n",
    ")\n",
    "from src.db.repo import (\n",
    "    MovInputRepository,\n",
    "    MovProductRepository,\n",
    "    MovEPIRepository,\n",
    ")\n",
    "\n",
    "repo_mov_input = MovInputRepository()\n",
    "repo_mov_product = MovProductRepository()\n",
    "repo_mov_epi = MovEPIRepository()"
   ]
  },
  {
   "cell_type": "code",
   "execution_count": null,
   "id": "fbe5c967",
   "metadata": {},
   "outputs": [
    {
     "name": "stdout",
     "output_type": "stream",
     "text": [
      "2025-10-04 06:57:45,032 INFO sqlalchemy.engine.Engine BEGIN (implicit)\n",
      "2025-10-04 06:57:45,035 INFO sqlalchemy.engine.Engine INSERT INTO movimentacoes_epi (id_epi, data_hora_compra, data_hora_entrega, data_hora_devolucao) VALUES (%(id_epi)s, %(data_hora_compra)s, %(data_hora_entrega)s, %(data_hora_devolucao)s) RETURNING movimentacoes_epi.id\n",
      "2025-10-04 06:57:45,036 INFO sqlalchemy.engine.Engine [generated in 0.00102s] {'id_epi': 1, 'data_hora_compra': datetime.datetime(2025, 10, 4, 6, 57, 45, 5124), 'data_hora_entrega': datetime.datetime(2025, 10, 4, 6, 57, 45, 5128), 'data_hora_devolucao': datetime.datetime(2025, 10, 4, 6, 57, 45, 5128)}\n",
      "2025-10-04 06:57:45,052 INFO sqlalchemy.engine.Engine COMMIT\n"
     ]
    }
   ],
   "source": [
    "from datetime import datetime\n",
    "\n",
    "repo_mov_input.create(MovInputDTO(\n",
    "    id_input=1,\n",
    "    id_suplier=1,\n",
    "    movement_type=MovementType.INBOUND,\n",
    "    qtd_moved=100,\n",
    "    packaging_type=PackagingTypes.BOX,\n",
    "    input_value=54.90,\n",
    "    specification_type=SpecificationTypes.POWDER,\n",
    "    datetime_buy=datetime.now(),\n",
    "    datetime_arrival=datetime.now()\n",
    "))\n",
    "\n",
    "repo_mov_product.create(MovProductDTO(\n",
    "    product_id=2,\n",
    "    movement_type=MovementType.INBOUND,\n",
    "    litrage=1000,\n",
    "    packaging_types=PackagingTypes.BOX,\n",
    "    stacking_maxim=12,\n",
    "    surplus=1.37,\n",
    "    validity=datetime.now(),\n",
    "    datetime_inbound=datetime.now(),\n",
    "    datetime_outbound=datetime.now(),\n",
    "))\n",
    "\n",
    "repo_mov_epi.create(MovEPIDTO(\n",
    "    id_epi=1,\n",
    "    datetime_buy=datetime.now(),\n",
    "    datetime_delivery=datetime.now(),\n",
    "    datetime_return=datetime.now(),\n",
    "))\n",
    "\n",
    "# É tudo hoje, o tempo é uma ilusão.\n"
   ]
  }
 ],
 "metadata": {
  "kernelspec": {
   "display_name": ".venv (3.13.5)",
   "language": "python",
   "name": "python3"
  },
  "language_info": {
   "codemirror_mode": {
    "name": "ipython",
    "version": 3
   },
   "file_extension": ".py",
   "mimetype": "text/x-python",
   "name": "python",
   "nbconvert_exporter": "python",
   "pygments_lexer": "ipython3",
   "version": "3.13.5"
  }
 },
 "nbformat": 4,
 "nbformat_minor": 5
}
